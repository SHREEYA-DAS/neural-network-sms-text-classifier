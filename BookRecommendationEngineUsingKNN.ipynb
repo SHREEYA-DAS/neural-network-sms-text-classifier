{
  "nbformat": 4,
  "nbformat_minor": 0,
  "metadata": {
    "colab": {
      "provenance": [],
      "include_colab_link": true
    },
    "kernelspec": {
      "name": "python3",
      "display_name": "Python 3"
    },
    "language_info": {
      "name": "python"
    }
  },
  "cells": [
    {
      "cell_type": "markdown",
      "metadata": {
        "id": "view-in-github",
        "colab_type": "text"
      },
      "source": [
        "<a href=\"https://colab.research.google.com/github/SHREEYA-DAS/neural-network-sms-text-classifier/blob/main/BookRecommendationEngineUsingKNN.ipynb\" target=\"_parent\"><img src=\"https://colab.research.google.com/assets/colab-badge.svg\" alt=\"Open In Colab\"/></a>"
      ]
    },
    {
      "cell_type": "code",
      "execution_count": null,
      "metadata": {
        "id": "9wLYkZUlL9ku"
      },
      "outputs": [],
      "source": [
        "# Import libraries\n",
        "import numpy as np\n",
        "import pandas as pd\n",
        "from scipy.sparse import csr_matrix\n",
        "from sklearn.neighbors import NearestNeighbors\n",
        "import matplotlib.pyplot as plt"
      ]
    },
    {
      "cell_type": "code",
      "source": [
        "# Get the data files\n",
        "!wget https://cdn.freecodecamp.org/project-data/books/book-crossings.zip\n",
        "\n",
        "!unzip book-crossings.zip\n",
        "\n",
        "books_filename = 'BX-Books.csv'\n",
        "ratings_filename = 'BX-Book-Ratings.csv'"
      ],
      "metadata": {
        "id": "yFvclE6WMKor"
      },
      "execution_count": null,
      "outputs": []
    },
    {
      "cell_type": "code",
      "source": [
        "# Import csv data into dataframes\n",
        "df_books = pd.read_csv(\n",
        "    books_filename,\n",
        "    encoding = \"ISO-8859-1\",\n",
        "    sep=\";\",\n",
        "    header=0,\n",
        "    names=['isbn', 'title', 'author'],\n",
        "    usecols=['isbn', 'title', 'author'],\n",
        "    dtype={'isbn': 'str', 'title': 'str', 'author': 'str'})\n",
        "\n",
        "df_ratings = pd.read_csv(\n",
        "    ratings_filename,\n",
        "    encoding = \"ISO-8859-1\",\n",
        "    sep=\";\",\n",
        "    header=0,\n",
        "    names=['user', 'isbn', 'rating'],\n",
        "    usecols=['user', 'isbn', 'rating'],\n",
        "    dtype={'user': 'int32', 'isbn': 'str', 'rating': 'float32'})"
      ],
      "metadata": {
        "id": "WxSIfJzgMVoX"
      },
      "execution_count": null,
      "outputs": []
    },
    {
      "cell_type": "code",
      "source": [
        "%matplotlib inline\n",
        "import matplotlib.pyplot as plt\n",
        "plt.rcParams[\"figure.figsize\"] = (16, 9) # (w, h)"
      ],
      "metadata": {
        "id": "MbUHYJp5Masd"
      },
      "execution_count": null,
      "outputs": []
    },
    {
      "cell_type": "code",
      "source": [
        "df = df_ratings[[\"user\", \"rating\"]]\\\n",
        "    .groupby([\"user\"])\\\n",
        "    .count()\\\n",
        "    .reset_index()\n",
        "\n",
        "df['rating_log10'] = np.log10(df['rating'])\n",
        "df.plot.scatter(x=\"user\", y=\"rating_log10\")"
      ],
      "metadata": {
        "id": "YzpY4d4AMn0u"
      },
      "execution_count": null,
      "outputs": []
    },
    {
      "cell_type": "code",
      "source": [
        "dfb = df_ratings.groupby([\"isbn\"]).count().reset_index()\n",
        "good_books = dfb.loc[dfb[\"rating\"] >= 100][\"isbn\"]\n",
        "\n",
        "# books contains those have no less than 100 ratings\n",
        "good_books = df_books.loc[df_books[\"isbn\"].isin(good_books)]"
      ],
      "metadata": {
        "id": "V7eDPShCMsQ_"
      },
      "execution_count": null,
      "outputs": []
    },
    {
      "cell_type": "code",
      "source": [
        "dfu = df_ratings[[\"user\", \"rating\"]]\\\n",
        "    .groupby([\"user\"])\\\n",
        "    .count()\\\n",
        "    .reset_index()\n",
        "\n",
        "good_users = dfu.loc[dfu[\"rating\"] >= 200][\"user\"]\n",
        "\n",
        "df = df_ratings.loc[df_ratings[\"user\"].isin(good_users)]\n",
        "df = df.loc[df[\"isbn\"].isin(good_books[\"isbn\"])]"
      ],
      "metadata": {
        "id": "Wvk4mQtlMwXH"
      },
      "execution_count": null,
      "outputs": []
    },
    {
      "cell_type": "code",
      "source": [
        "# pivot ratings into book features\n",
        "df_book_features = df.pivot(\n",
        "    index='isbn',\n",
        "    columns='user',\n",
        "    values='rating'\n",
        ").fillna(0)\n",
        "\n",
        "# Convert dataframe of book features to sparse matrix\n",
        "# This will take a good amount of memory usage\n",
        "mat_book_features = csr_matrix(df_book_features.values)"
      ],
      "metadata": {
        "id": "Vx7s29RYM0Xl"
      },
      "execution_count": null,
      "outputs": []
    },
    {
      "cell_type": "code",
      "source": [
        "model = NearestNeighbors(metric='cosine')\n",
        "model.fit(mat_book_features)"
      ],
      "metadata": {
        "id": "lFQawsoTM8Oc"
      },
      "execution_count": null,
      "outputs": []
    },
    {
      "cell_type": "code",
      "source": [
        "# function to return recommended books - this will be tested\n",
        "def get_recommends(title = \"\"):\n",
        "    try:\n",
        "        book = good_books.loc[good_books[\"title\"] == title]\n",
        "    except KeyError as e:\n",
        "        print('Book', e, 'does not exist')\n",
        "        return\n",
        "\n",
        "    b = df_book_features.loc[df_book_features.index.isin(book[\"isbn\"])]\n",
        "    distance, indice = model.kneighbors([x for x in b.values], n_neighbors=6)\n",
        "\n",
        "    distance =  distance[0][1:]\n",
        "    indice = indice[0][1:]\n",
        "\n",
        "    titles = [\n",
        "        df_books.loc[df_books['isbn'] == df_book_features.iloc[i].name][\"title\"].values[0]\\\n",
        "        for i in indice\n",
        "    ]\n",
        "\n",
        "    recommended = [list(z) for z in zip(titles, distance)][::-1]\n",
        "    return [title, recommended]\n",
        "\n",
        "get_recommends(\"The Queen of the Damned (Vampire Chronicles (Paperback))\")"
      ],
      "metadata": {
        "id": "AWZ14IZKNBiC"
      },
      "execution_count": null,
      "outputs": []
    },
    {
      "cell_type": "code",
      "source": [
        "books = get_recommends(\"Where the Heart Is (Oprah's Book Club (Paperback))\")\n",
        "print(books)\n",
        "\n",
        "def test_book_recommendation():\n",
        "  test_pass = True\n",
        "  recommends = get_recommends(\"Where the Heart Is (Oprah's Book Club (Paperback))\")\n",
        "  if recommends[0] != \"Where the Heart Is (Oprah's Book Club (Paperback))\":\n",
        "    test_pass = False\n",
        "  recommended_books = [\"I'll Be Seeing You\", 'The Weight of Water', 'The Surgeon', 'I Know This Much Is True']\n",
        "  recommended_books_dist = [0.8, 0.77, 0.77, 0.77]\n",
        "  for i in range(2):\n",
        "    if recommends[1][i][0] not in recommended_books:\n",
        "      test_pass = False\n",
        "    if abs(recommends[1][i][1] - recommended_books_dist[i]) >= 0.05:\n",
        "      test_pass = False\n",
        "  if test_pass:\n",
        "    print(\"You passed the challenge! 🎉🎉🎉🎉🎉\")\n",
        "  else:\n",
        "    print(\"You haven't passed yet. Keep trying!\")\n",
        "\n",
        "test_book_recommendation()"
      ],
      "metadata": {
        "id": "Ysz7Fd_3NFqf"
      },
      "execution_count": null,
      "outputs": []
    }
  ]
}